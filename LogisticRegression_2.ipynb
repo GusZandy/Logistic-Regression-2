{
  "nbformat": 4,
  "nbformat_minor": 0,
  "metadata": {
    "kernelspec": {
      "display_name": "Python 3",
      "language": "python",
      "name": "python3"
    },
    "language_info": {
      "codemirror_mode": {
        "name": "ipython",
        "version": 3
      },
      "file_extension": ".py",
      "mimetype": "text/x-python",
      "name": "python",
      "nbconvert_exporter": "python",
      "pygments_lexer": "ipython3",
      "version": "3.6.9"
    },
    "colab": {
      "name": "LogisticRegression-2.ipynb",
      "provenance": [],
      "toc_visible": true
    }
  },
  "cells": [
    {
      "cell_type": "markdown",
      "metadata": {
        "id": "JMnko3gBmbv-",
        "colab_type": "text"
      },
      "source": [
        "# **Klasifikasi Data Larik Sensor Gas Untuk Membedakan Kopi Arabika dan Robusta Dengan Regresi Logistik**"
      ]
    },
    {
      "cell_type": "markdown",
      "metadata": {
        "id": "db8JtlnzmbwA",
        "colab_type": "text"
      },
      "source": [
        "sensor yang digunakan yaitu MQ-3, MQ-4, TGS 2610, MQ-136, dan TGS 822 \\\n",
        "oleh **Zandy Yudha Perwira**\n",
        "___"
      ]
    },
    {
      "cell_type": "markdown",
      "metadata": {
        "id": "heJvdsfdmbwA",
        "colab_type": "text"
      },
      "source": [
        "## 1. Import Librari yang digunakan"
      ]
    },
    {
      "cell_type": "code",
      "metadata": {
        "id": "oAJbIwm4mbwB",
        "colab_type": "code",
        "colab": {}
      },
      "source": [
        "import numpy as np\n",
        "import pandas as pd\n",
        "import matplotlib.pyplot as plt\n",
        "from sklearn.decomposition import PCA\n",
        "from sklearn.preprocessing import StandardScaler\n",
        "from sklearn.metrics import confusion_matrix \n",
        "from sklearn.metrics import accuracy_score \n",
        "from sklearn.metrics import classification_report"
      ],
      "execution_count": 0,
      "outputs": []
    },
    {
      "cell_type": "markdown",
      "metadata": {
        "id": "O45g0IU_mbwE",
        "colab_type": "text"
      },
      "source": [
        "## 2. Kelas Regresi Logistik"
      ]
    },
    {
      "cell_type": "markdown",
      "metadata": {
        "id": "4EqdXwI3mbwE",
        "colab_type": "text"
      },
      "source": [
        "Update bobot menggunakan gradient dari log likelihood \\\n",
        "$$\n",
        "\\begin{aligned}\n",
        "\\begin{equation*}\n",
        "  \\theta^{new} = \\theta^{old} + \\eta \\sum_{i=1}^{n}{[y^{(i)}-\\sigma(\\theta^Tx^{(i)})]x_{j}^{(i)}} \\\\ \\\\\n",
        "  \\theta = bobot \\\\\n",
        "  \\eta = learning\\ rate \\\\\n",
        "  n = jumlah\\ data \\\\\n",
        "  j = jumlah\\ fitur \\\\\n",
        "  x = data\\ fitur \\\\ \n",
        "  y = label \\\\\n",
        "\\end{equation*}\n",
        "\\end{aligned} $$"
      ]
    },
    {
      "cell_type": "markdown",
      "metadata": {
        "id": "ojGKOEfYmbwF",
        "colab_type": "text"
      },
      "source": [
        "Loss function menggunakan Logistic Loss Function: \\\n",
        "$$\n",
        "\\begin{aligned}\n",
        "\\begin{equation*}\n",
        "   Cost(h_{\\theta}(x),y) = \\begin{cases}\n",
        "-\\log(h_{\\theta}(x)) & \\quad jika\\ y = 1 \\\\\n",
        "-\\log(1-h_{\\theta}(x)) & \\quad jika\\ y = 0.\n",
        "\\end{cases} \\\\\n",
        " \\theta = bobot \\\\\n",
        "  h = fungsi\\ logistik \\\\\n",
        "\\end{equation*}\n",
        "\\end{aligned} $$ \n",
        "\n",
        "$$\n",
        "\\begin{aligned}\n",
        "\\begin{equation*}\n",
        "   J(\\theta) = \\frac{1}{n} \\sum_{i=1}^{n}{Cost(h_{\\theta}(x^{(i)}),y^{(i)})} \\\\\n",
        "  J(\\theta) = fungsi\\ cost \\\\\n",
        "  h = fungsi\\ logistik \\\\\n",
        "  x = data\\ fitur \\\\ \n",
        "  y = label \\\\\n",
        "\\end{equation*}\n",
        "\\end{aligned} $$ "
      ]
    },
    {
      "cell_type": "code",
      "metadata": {
        "id": "aFjaTTU9mbwF",
        "colab_type": "code",
        "colab": {}
      },
      "source": [
        "class LogisticRegression():\n",
        "    def __init__(self, data_x, data_y, learning_rate=0.01, num_iteration=100000, fit_intercept=True):\n",
        "        self.learning_rate = learning_rate\n",
        "        self.num_iteration = num_iteration\n",
        "        self.X = data_x\n",
        "        self.y = data_y\n",
        "        self.theta = np.zeros(self.X.shape[1])\n",
        "        self.gradients = np.zeros(self.X.shape[1])\n",
        "        self.fit_intercept = fit_intercept\n",
        "        \n",
        "    def __add_intercept(self, X):\n",
        "        intercept = np.ones((X.shape[0], 1))\n",
        "        return np.concatenate((intercept, X), axis=1)\n",
        "    \n",
        "    def __sigmoid(self, z):\n",
        "        return 1 / (1 + np.exp(-z))\n",
        "    \n",
        "    def __loss(self, h, y):\n",
        "        temp = 0\n",
        "        for i in range(len(y)):\n",
        "            if y[i] == 1:\n",
        "                temp += -y[i] * np.log(h[i])\n",
        "            elif y[i] == 0:\n",
        "                temp += - (1 - y[i]) * np.log(1 - h[i])\n",
        "        return temp / len(y)\n",
        "    \n",
        "    def __compute_gradient(self, data_xi, data_xij, data_yi):\n",
        "        return (data_yi - self.__sigmoid(np.dot(self.theta.T, data_xi))) * data_xij\n",
        "    \n",
        "    def train(self):\n",
        "        if self.fit_intercept:\n",
        "            self.X = self.__add_intercept(self.X)\n",
        "            self.theta = np.zeros(self.X.shape[1])\n",
        "            self.gradients = np.zeros(self.X.shape[1])\n",
        "        \n",
        "        for i in range(self.num_iteration):\n",
        "            for xi, yi in zip(self.X, self.y):\n",
        "                for idx,xij in enumerate(xi):\n",
        "                    self.gradients[idx] += self.__compute_gradient(xi, xij, yi)\n",
        "                \n",
        "            for j in range(self.X.shape[1]):\n",
        "                self.theta[j] += self.learning_rate * self.gradients[j]\n",
        "                self.gradients[j] = 0\n",
        "             \n",
        "            if(i % 100 == 0):\n",
        "                z = np.dot(self.X, self.theta)\n",
        "                h = self.__sigmoid(z)\n",
        "                loss = self.__loss(h, self.y)\n",
        "                print(f'loss: {loss} \\t')\n",
        "\n",
        "    def predict_prob(self, test_data):\n",
        "        if self.fit_intercept:\n",
        "            test_data = self.__add_intercept(test_data)\n",
        "        return self.__sigmoid(np.dot(test_data, self.theta.T))\n",
        "    \n",
        "    def predict(self, test_data):\n",
        "        return self.predict_prob(test_data)"
      ],
      "execution_count": 0,
      "outputs": []
    },
    {
      "cell_type": "markdown",
      "metadata": {
        "id": "2vDxCr_TmbwI",
        "colab_type": "text"
      },
      "source": [
        "## 3. Pra-premrosesan Data"
      ]
    },
    {
      "cell_type": "code",
      "metadata": {
        "id": "TDDAn0XPmbwI",
        "colab_type": "code",
        "colab": {}
      },
      "source": [
        "def data_preprocessing(standard_scaler, pca, data, col_features, col_target, test=False):\n",
        "    # Separate data to feature data & target data\n",
        "    x = data.loc[:, col_features].values\n",
        "    y = data.loc[:, col_target].values\n",
        "    \n",
        "    # Fit transformation to feature columns\n",
        "    if test == False:\n",
        "        x = standard_scaler.fit_transform(x)\n",
        "    else:\n",
        "        x = standard_scaler.transform(x)\n",
        "    \n",
        "    if test == False:\n",
        "        principal_components = pca.fit_transform(x)\n",
        "    else:\n",
        "        principal_components = pca.transform(x)\n",
        "        \n",
        "    pc_data = pd.DataFrame(data = principal_components, columns = ['PC 1', 'PC 2'])\n",
        "    \n",
        "    # concate with target column\n",
        "    pc_data = pd.concat([pc_data, pd.DataFrame(y)], axis=1, ignore_index=True)\n",
        "    pc_data.columns = ['PC 1', 'PC 2', 'Target']\n",
        "    \n",
        "    return pc_data"
      ],
      "execution_count": 0,
      "outputs": []
    },
    {
      "cell_type": "markdown",
      "metadata": {
        "id": "Wv-h82VcmbwK",
        "colab_type": "text"
      },
      "source": [
        "## 4. Fungsi prediksi"
      ]
    },
    {
      "cell_type": "code",
      "metadata": {
        "id": "EajmxrkGmbwL",
        "colab_type": "code",
        "colab": {}
      },
      "source": [
        "def predict(model_logreg, sensor_data):\n",
        "    components = pca.transform(sensor_data)\n",
        "    return model_logreg.predict(components)"
      ],
      "execution_count": 0,
      "outputs": []
    },
    {
      "cell_type": "markdown",
      "metadata": {
        "id": "ttpLq9nEmbwN",
        "colab_type": "text"
      },
      "source": [
        "## 5. Klasifikasi Data "
      ]
    },
    {
      "cell_type": "markdown",
      "metadata": {
        "id": "5nsVc4SWmbwO",
        "colab_type": "text"
      },
      "source": [
        "### - Membaca data dari file CSV"
      ]
    },
    {
      "cell_type": "code",
      "metadata": {
        "id": "9PJ4p-07mbwO",
        "colab_type": "code",
        "outputId": "d518956c-87ca-4897-9f1b-4dff531c01d6",
        "colab": {
          "base_uri": "https://localhost:8080/",
          "height": 419
        }
      },
      "source": [
        "# read sensor data from csv\n",
        "arabica = pd.read_csv('arabica.csv')  \n",
        "robusta = pd.read_csv('robusta.csv')\n",
        "\n",
        "# combine the both of those data\n",
        "data = pd.concat([arabica, robusta], ignore_index=True)\n",
        "data"
      ],
      "execution_count": 0,
      "outputs": [
        {
          "output_type": "execute_result",
          "data": {
            "text/html": [
              "<div>\n",
              "<style scoped>\n",
              "    .dataframe tbody tr th:only-of-type {\n",
              "        vertical-align: middle;\n",
              "    }\n",
              "\n",
              "    .dataframe tbody tr th {\n",
              "        vertical-align: top;\n",
              "    }\n",
              "\n",
              "    .dataframe thead th {\n",
              "        text-align: right;\n",
              "    }\n",
              "</style>\n",
              "<table border=\"1\" class=\"dataframe\">\n",
              "  <thead>\n",
              "    <tr style=\"text-align: right;\">\n",
              "      <th></th>\n",
              "      <th>Waktu</th>\n",
              "      <th>MQ-3</th>\n",
              "      <th>MQ-4</th>\n",
              "      <th>TGS 2610</th>\n",
              "      <th>MQ-136</th>\n",
              "      <th>TGS 822</th>\n",
              "      <th>Type</th>\n",
              "    </tr>\n",
              "  </thead>\n",
              "  <tbody>\n",
              "    <tr>\n",
              "      <th>0</th>\n",
              "      <td>11:26:55 AM</td>\n",
              "      <td>1739.5</td>\n",
              "      <td>392.0</td>\n",
              "      <td>44.1</td>\n",
              "      <td>1082.9</td>\n",
              "      <td>-39.2</td>\n",
              "      <td>0</td>\n",
              "    </tr>\n",
              "    <tr>\n",
              "      <th>1</th>\n",
              "      <td>11:26:56 AM</td>\n",
              "      <td>1739.5</td>\n",
              "      <td>396.9</td>\n",
              "      <td>44.1</td>\n",
              "      <td>1082.9</td>\n",
              "      <td>-39.2</td>\n",
              "      <td>0</td>\n",
              "    </tr>\n",
              "    <tr>\n",
              "      <th>2</th>\n",
              "      <td>11:26:57 AM</td>\n",
              "      <td>1739.5</td>\n",
              "      <td>396.9</td>\n",
              "      <td>39.2</td>\n",
              "      <td>1082.9</td>\n",
              "      <td>-39.2</td>\n",
              "      <td>0</td>\n",
              "    </tr>\n",
              "    <tr>\n",
              "      <th>3</th>\n",
              "      <td>11:26:58 AM</td>\n",
              "      <td>1739.5</td>\n",
              "      <td>396.9</td>\n",
              "      <td>39.2</td>\n",
              "      <td>1082.9</td>\n",
              "      <td>-39.2</td>\n",
              "      <td>0</td>\n",
              "    </tr>\n",
              "    <tr>\n",
              "      <th>4</th>\n",
              "      <td>11:26:59 AM</td>\n",
              "      <td>1739.5</td>\n",
              "      <td>396.9</td>\n",
              "      <td>39.2</td>\n",
              "      <td>1082.9</td>\n",
              "      <td>-39.2</td>\n",
              "      <td>0</td>\n",
              "    </tr>\n",
              "    <tr>\n",
              "      <th>...</th>\n",
              "      <td>...</td>\n",
              "      <td>...</td>\n",
              "      <td>...</td>\n",
              "      <td>...</td>\n",
              "      <td>...</td>\n",
              "      <td>...</td>\n",
              "      <td>...</td>\n",
              "    </tr>\n",
              "    <tr>\n",
              "      <th>117</th>\n",
              "      <td>11:53:05 AM</td>\n",
              "      <td>1597.4</td>\n",
              "      <td>499.8</td>\n",
              "      <td>73.5</td>\n",
              "      <td>955.5</td>\n",
              "      <td>-137.2</td>\n",
              "      <td>1</td>\n",
              "    </tr>\n",
              "    <tr>\n",
              "      <th>118</th>\n",
              "      <td>11:53:06 AM</td>\n",
              "      <td>1597.4</td>\n",
              "      <td>504.7</td>\n",
              "      <td>73.5</td>\n",
              "      <td>960.4</td>\n",
              "      <td>-137.2</td>\n",
              "      <td>1</td>\n",
              "    </tr>\n",
              "    <tr>\n",
              "      <th>119</th>\n",
              "      <td>11:53:07 AM</td>\n",
              "      <td>1602.3</td>\n",
              "      <td>499.8</td>\n",
              "      <td>78.4</td>\n",
              "      <td>970.2</td>\n",
              "      <td>-137.2</td>\n",
              "      <td>1</td>\n",
              "    </tr>\n",
              "    <tr>\n",
              "      <th>120</th>\n",
              "      <td>11:53:08 AM</td>\n",
              "      <td>1602.3</td>\n",
              "      <td>499.8</td>\n",
              "      <td>78.4</td>\n",
              "      <td>970.2</td>\n",
              "      <td>-137.2</td>\n",
              "      <td>1</td>\n",
              "    </tr>\n",
              "    <tr>\n",
              "      <th>121</th>\n",
              "      <td>11:53:09 AM</td>\n",
              "      <td>1602.3</td>\n",
              "      <td>504.7</td>\n",
              "      <td>78.4</td>\n",
              "      <td>975.1</td>\n",
              "      <td>-137.2</td>\n",
              "      <td>1</td>\n",
              "    </tr>\n",
              "  </tbody>\n",
              "</table>\n",
              "<p>122 rows × 7 columns</p>\n",
              "</div>"
            ],
            "text/plain": [
              "             Waktu    MQ-3   MQ-4  TGS 2610  MQ-136  TGS 822  Type\n",
              "0     11:26:55 AM   1739.5  392.0      44.1  1082.9    -39.2     0\n",
              "1     11:26:56 AM   1739.5  396.9      44.1  1082.9    -39.2     0\n",
              "2     11:26:57 AM   1739.5  396.9      39.2  1082.9    -39.2     0\n",
              "3     11:26:58 AM   1739.5  396.9      39.2  1082.9    -39.2     0\n",
              "4     11:26:59 AM   1739.5  396.9      39.2  1082.9    -39.2     0\n",
              "..             ...     ...    ...       ...     ...      ...   ...\n",
              "117   11:53:05 AM   1597.4  499.8      73.5   955.5   -137.2     1\n",
              "118   11:53:06 AM   1597.4  504.7      73.5   960.4   -137.2     1\n",
              "119   11:53:07 AM   1602.3  499.8      78.4   970.2   -137.2     1\n",
              "120   11:53:08 AM   1602.3  499.8      78.4   970.2   -137.2     1\n",
              "121   11:53:09 AM   1602.3  504.7      78.4   975.1   -137.2     1\n",
              "\n",
              "[122 rows x 7 columns]"
            ]
          },
          "metadata": {
            "tags": []
          },
          "execution_count": 10
        }
      ]
    },
    {
      "cell_type": "markdown",
      "metadata": {
        "id": "0sx23bi1mbwS",
        "colab_type": "text"
      },
      "source": [
        "### - Pra-premrosesan data"
      ]
    },
    {
      "cell_type": "code",
      "metadata": {
        "id": "l4HgAWf5mbwS",
        "colab_type": "code",
        "outputId": "99cd2825-1af8-4b8c-e73e-413ddcca41a2",
        "colab": {
          "base_uri": "https://localhost:8080/",
          "height": 419
        }
      },
      "source": [
        "# Preprocessing data\n",
        "# Note: target = 0 (Arabica) and  1 (Robusta)\n",
        "pca = PCA(.95)\n",
        "standard_scaler = StandardScaler()\n",
        "\n",
        "feature_cols = ['MQ-3', 'MQ-4', 'TGS 2610', 'MQ-136', 'TGS 822'];\n",
        "target_cols = ['Type']\n",
        "pc_data = data_preprocessing(standard_scaler, pca, data, feature_cols, target_cols, test=False)\n",
        "pc_data"
      ],
      "execution_count": 0,
      "outputs": [
        {
          "output_type": "execute_result",
          "data": {
            "text/html": [
              "<div>\n",
              "<style scoped>\n",
              "    .dataframe tbody tr th:only-of-type {\n",
              "        vertical-align: middle;\n",
              "    }\n",
              "\n",
              "    .dataframe tbody tr th {\n",
              "        vertical-align: top;\n",
              "    }\n",
              "\n",
              "    .dataframe thead th {\n",
              "        text-align: right;\n",
              "    }\n",
              "</style>\n",
              "<table border=\"1\" class=\"dataframe\">\n",
              "  <thead>\n",
              "    <tr style=\"text-align: right;\">\n",
              "      <th></th>\n",
              "      <th>PC 1</th>\n",
              "      <th>PC 2</th>\n",
              "      <th>Target</th>\n",
              "    </tr>\n",
              "  </thead>\n",
              "  <tbody>\n",
              "    <tr>\n",
              "      <th>0</th>\n",
              "      <td>-2.159357</td>\n",
              "      <td>-0.464098</td>\n",
              "      <td>0</td>\n",
              "    </tr>\n",
              "    <tr>\n",
              "      <th>1</th>\n",
              "      <td>-2.097455</td>\n",
              "      <td>-0.399828</td>\n",
              "      <td>0</td>\n",
              "    </tr>\n",
              "    <tr>\n",
              "      <th>2</th>\n",
              "      <td>-2.028674</td>\n",
              "      <td>-0.622734</td>\n",
              "      <td>0</td>\n",
              "    </tr>\n",
              "    <tr>\n",
              "      <th>3</th>\n",
              "      <td>-2.028674</td>\n",
              "      <td>-0.622734</td>\n",
              "      <td>0</td>\n",
              "    </tr>\n",
              "    <tr>\n",
              "      <th>4</th>\n",
              "      <td>-2.028674</td>\n",
              "      <td>-0.622734</td>\n",
              "      <td>0</td>\n",
              "    </tr>\n",
              "    <tr>\n",
              "      <th>...</th>\n",
              "      <td>...</td>\n",
              "      <td>...</td>\n",
              "      <td>...</td>\n",
              "    </tr>\n",
              "    <tr>\n",
              "      <th>117</th>\n",
              "      <td>0.821147</td>\n",
              "      <td>2.754049</td>\n",
              "      <td>1</td>\n",
              "    </tr>\n",
              "    <tr>\n",
              "      <th>118</th>\n",
              "      <td>0.866785</td>\n",
              "      <td>2.822634</td>\n",
              "      <td>1</td>\n",
              "    </tr>\n",
              "    <tr>\n",
              "      <th>119</th>\n",
              "      <td>0.686799</td>\n",
              "      <td>2.995501</td>\n",
              "      <td>1</td>\n",
              "    </tr>\n",
              "    <tr>\n",
              "      <th>120</th>\n",
              "      <td>0.686799</td>\n",
              "      <td>2.995501</td>\n",
              "      <td>1</td>\n",
              "    </tr>\n",
              "    <tr>\n",
              "      <th>121</th>\n",
              "      <td>0.732437</td>\n",
              "      <td>3.064086</td>\n",
              "      <td>1</td>\n",
              "    </tr>\n",
              "  </tbody>\n",
              "</table>\n",
              "<p>122 rows × 3 columns</p>\n",
              "</div>"
            ],
            "text/plain": [
              "         PC 1      PC 2  Target\n",
              "0   -2.159357 -0.464098       0\n",
              "1   -2.097455 -0.399828       0\n",
              "2   -2.028674 -0.622734       0\n",
              "3   -2.028674 -0.622734       0\n",
              "4   -2.028674 -0.622734       0\n",
              "..        ...       ...     ...\n",
              "117  0.821147  2.754049       1\n",
              "118  0.866785  2.822634       1\n",
              "119  0.686799  2.995501       1\n",
              "120  0.686799  2.995501       1\n",
              "121  0.732437  3.064086       1\n",
              "\n",
              "[122 rows x 3 columns]"
            ]
          },
          "metadata": {
            "tags": []
          },
          "execution_count": 11
        }
      ]
    },
    {
      "cell_type": "markdown",
      "metadata": {
        "id": "9Vs93XiMmbwU",
        "colab_type": "text"
      },
      "source": [
        "### - Plot ciri & reduksi dimensi dengan PCA"
      ]
    },
    {
      "cell_type": "code",
      "metadata": {
        "id": "yTvR9qLOmbwV",
        "colab_type": "code",
        "outputId": "94cab3df-00cb-4627-ca8d-41db2943a5c0",
        "colab": {
          "base_uri": "https://localhost:8080/",
          "height": 523
        }
      },
      "source": [
        "fig = plt.figure(figsize = (8,8))\n",
        "ax = fig.add_subplot(1,1,1) \n",
        "ax.set_xlabel('PC 1', fontsize = 15)\n",
        "ax.set_ylabel('PC 2', fontsize = 15)\n",
        "ax.set_title('2 component PCA', fontsize = 20)\n",
        "targets = [0, 1]\n",
        "colors = ['r', 'b']\n",
        "for target, color in zip(targets,colors):\n",
        "    indicesToKeep = pc_data['Target'] == target\n",
        "    ax.scatter(pc_data.loc[indicesToKeep, 'PC 1']\n",
        "               , pc_data.loc[indicesToKeep, 'PC 2']\n",
        "               , c = color\n",
        "               , s = 50)\n",
        "ax.legend(['Arabica', 'Robusta'])\n",
        "ax.grid()"
      ],
      "execution_count": 0,
      "outputs": [
        {
          "output_type": "display_data",
          "data": {
            "image/png": "[encoded data removed]",
            "text/plain": [
              "<Figure size 576x576 with 1 Axes>"
            ]
          },
          "metadata": {
            "tags": [],
            "needs_background": "light"
          }
        }
      ]
    },
    {
      "cell_type": "code",
      "metadata": {
        "id": "K7J3FjKNmbwX",
        "colab_type": "code",
        "colab": {}
      },
      "source": [
        "data_x = pc_data[['PC 1', 'PC 2']].values\n",
        "data_y = pc_data[['Target']].values\n",
        "data_y = data_y.flatten()"
      ],
      "execution_count": 0,
      "outputs": []
    },
    {
      "cell_type": "markdown",
      "metadata": {
        "id": "YDRW4xPimbwZ",
        "colab_type": "text"
      },
      "source": [
        "### - Membuat obyek dari kelas LogisticRegression"
      ]
    },
    {
      "cell_type": "code",
      "metadata": {
        "id": "BCM7PxzZmbwa",
        "colab_type": "code",
        "colab": {}
      },
      "source": [
        "model = LogisticRegression(data_x=data_x, data_y=data_y, learning_rate=0.01, num_iteration=10000)"
      ],
      "execution_count": 0,
      "outputs": []
    },
    {
      "cell_type": "markdown",
      "metadata": {
        "id": "9fLERYhImbwc",
        "colab_type": "text"
      },
      "source": [
        "### - Training Data"
      ]
    },
    {
      "cell_type": "code",
      "metadata": {
        "id": "bQNOZBaLmbwc",
        "colab_type": "code",
        "outputId": "fe13bbe6-e1bd-4a79-fe75-a5b2e09e2017",
        "colab": {
          "base_uri": "https://localhost:8080/",
          "height": 1000
        }
      },
      "source": [
        "%time model.train()"
      ],
      "execution_count": 0,
      "outputs": [
        {
          "output_type": "stream",
          "text": [
            "loss: 0.11131583005698038 \t\n",
            "loss: 0.002476449569270474 \t\n",
            "loss: 0.0012640471127103913 \t\n",
            "loss: 0.0008500618430314652 \t\n",
            "loss: 0.0006408546664291164 \t\n",
            "loss: 0.0005145216607777717 \t\n",
            "loss: 0.00042992393319900735 \t\n",
            "loss: 0.0003692947647591437 \t\n",
            "loss: 0.0003237026336211897 \t\n",
            "loss: 0.00028816521742129126 \t\n",
            "loss: 0.00025968338139099883 \t\n",
            "loss: 0.0002363434777252686 \t\n",
            "loss: 0.00021686686552197228 \t\n",
            "loss: 0.0002003666177454276 \t\n",
            "loss: 0.00018620814453103657 \t\n",
            "loss: 0.00017392538479059632 \t\n",
            "loss: 0.00016316832611661523 \t\n",
            "loss: 0.00015366898979423811 \t\n",
            "loss: 0.00014521871994569433 \t\n",
            "loss: 0.00013765262339037655 \t\n",
            "loss: 0.00013083866408649552 \t\n",
            "loss: 0.00012466986464208706 \t\n",
            "loss: 0.0001190586287899185 \t\n",
            "loss: 0.00011393254092205623 \t\n",
            "loss: 0.000109231212928687 \t\n",
            "loss: 0.00010490388580076417 \t\n",
            "loss: 0.00010090758327172584 \t\n",
            "loss: 9.720567471080311e-05 \t\n",
            "loss: 9.37667451896769e-05 \t\n",
            "loss: 9.056369874594779e-05 \t\n",
            "loss: 8.757304055163275e-05 \t\n",
            "loss: 8.477429767885295e-05 \t\n",
            "loss: 8.214954821028605e-05 \t\n",
            "loss: 7.968303576193993e-05 \t\n",
            "loss: 7.736085187093575e-05 \t\n",
            "loss: 7.517067270389377e-05 \t\n",
            "loss: 7.310153954567346e-05 \t\n",
            "loss: 7.114367480308105e-05 \t\n",
            "loss: 6.928832699433365e-05 \t\n",
            "loss: 6.752763953273198e-05 \t\n",
            "loss: 6.585453914863811e-05 \t\n",
            "loss: 6.426264060376665e-05 \t\n",
            "loss: 6.274616498772189e-05 \t\n",
            "loss: 6.129986939005774e-05 \t\n",
            "loss: 5.991898614167689e-05 \t\n",
            "loss: 5.85991701399257e-05 \t\n",
            "loss: 5.7336453029564066e-05 \t\n",
            "loss: 5.6127203220657716e-05 \t\n",
            "loss: 5.4968090893311845e-05 \t\n",
            "loss: 5.3856057278967885e-05 \t\n",
            "loss: 5.278828761981487e-05 \t\n",
            "loss: 5.1762187303124775e-05 \t\n",
            "loss: 5.077536074348498e-05 \t\n",
            "loss: 4.982559265079042e-05 \t\n",
            "loss: 4.891083137534014e-05 \t\n",
            "loss: 4.802917406616348e-05 \t\n",
            "loss: 4.717885341616893e-05 \t\n",
            "loss: 4.635822579994621e-05 \t\n",
            "loss: 4.55657606359599e-05 \t\n",
            "loss: 4.4800030828597824e-05 \t\n",
            "loss: 4.4059704164015725e-05 \t\n",
            "loss: 4.3343535550607884e-05 \t\n",
            "loss: 4.265036000901406e-05 \t\n",
            "loss: 4.197908632826342e-05 \t\n",
            "loss: 4.132869131562497e-05 \t\n",
            "loss: 4.0698214576200804e-05 \t\n",
            "loss: 4.0086753766035607e-05 \t\n",
            "loss: 3.9493460269766036e-05 \t\n",
            "loss: 3.8917535258577465e-05 \t\n",
            "loss: 3.8358226090573015e-05 \t\n",
            "loss: 3.7814823018946154e-05 \t\n",
            "loss: 3.72866561778699e-05 \t\n",
            "loss: 3.677309281900199e-05 \t\n",
            "loss: 3.627353477477678e-05 \t\n",
            "loss: 3.578741612697438e-05 \t\n",
            "loss: 3.531420106138844e-05 \t\n",
            "loss: 3.485338189165118e-05 \t\n",
            "loss: 3.440447723660991e-05 \t\n",
            "loss: 3.396703033781596e-05 \t\n",
            "loss: 3.354060750444437e-05 \t\n",
            "loss: 3.312479667463453e-05 \t\n",
            "loss: 3.2719206083228095e-05 \t\n",
            "loss: 3.2323463026858814e-05 \t\n",
            "loss: 3.1937212718032434e-05 \t\n",
            "loss: 3.156011722098917e-05 \t\n",
            "loss: 3.1191854462496364e-05 \t\n",
            "loss: 3.083211731165004e-05 \t\n",
            "loss: 3.0480612722860543e-05 \t\n",
            "loss: 3.0137060937169556e-05 \t\n",
            "loss: 2.9801194737511827e-05 \t\n",
            "loss: 2.9472758753336448e-05 \t\n",
            "loss: 2.9151508811034134e-05 \t\n",
            "loss: 2.8837211326723565e-05 \t\n",
            "loss: 2.8529642738064754e-05 \t\n",
            "loss: 2.8228588972348714e-05 \t\n",
            "loss: 2.793384494798385e-05 \t\n",
            "loss: 2.7645214107311562e-05 \t\n",
            "loss: 2.7362507978032234e-05 \t\n",
            "loss: 2.7085545761530555e-05 \t\n",
            "loss: 2.6814153946242084e-05 \t\n",
            "CPU times: user 42.6 s, sys: 3.89 s, total: 46.5 s\n",
            "Wall time: 42 s\n"
          ],
          "name": "stdout"
        }
      ]
    },
    {
      "cell_type": "markdown",
      "metadata": {
        "id": "KfSVL44lmbwe",
        "colab_type": "text"
      },
      "source": [
        "### - Cetak Nilai Theta"
      ]
    },
    {
      "cell_type": "code",
      "metadata": {
        "id": "IJjKwEb0mbwf",
        "colab_type": "code",
        "outputId": "02034e06-b2f2-43d7-9832-1b2a8dacb53e",
        "colab": {
          "base_uri": "https://localhost:8080/",
          "height": 34
        }
      },
      "source": [
        "model.theta"
      ],
      "execution_count": 0,
      "outputs": [
        {
          "output_type": "execute_result",
          "data": {
            "text/plain": [
              "array([-3.10345758e-04,  5.55150346e+00,  1.83654878e+00])"
            ]
          },
          "metadata": {
            "tags": []
          },
          "execution_count": 16
        }
      ]
    },
    {
      "cell_type": "markdown",
      "metadata": {
        "id": "aLQ9Lrh9mbwh",
        "colab_type": "text"
      },
      "source": [
        "### - Plot Hasil Klasifikasi dengan Boundary Line"
      ]
    },
    {
      "cell_type": "code",
      "metadata": {
        "id": "CHlqZqkOmbwh",
        "colab_type": "code",
        "outputId": "25c8a31c-b068-466c-e4dc-dbf70134d0ef",
        "colab": {
          "base_uri": "https://localhost:8080/",
          "height": 414
        }
      },
      "source": [
        "X = data_x\n",
        "y = np.array(data_y)\n",
        "\n",
        "plt.figure(figsize=(10, 6))\n",
        "plt.xlabel('PC 1', fontsize = 15)\n",
        "plt.ylabel('PC 2', fontsize = 15)\n",
        "plt.title('Plot Hasil Klasifikasi dengan Boundary Line', fontsize = 20)\n",
        "plt.scatter(X[y == 0][:, 0], X[y == 0][:, 1], color='r', label='0')\n",
        "plt.scatter(X[y == 1][:, 0], X[y == 1][:, 1], color='b', label='1')\n",
        "plt.legend(['Arabica', 'Robusta'])\n",
        "plt.grid()\n",
        "x1_min, x1_max = X[:,0].min() - 1, X[:,0].max() + 1,\n",
        "x2_min, x2_max = X[:,1].min() - 1, X[:,1].max() + 1,\n",
        "xx1, xx2 = np.meshgrid(np.linspace(x1_min, x1_max), np.linspace(x2_min, x2_max))\n",
        "grid = np.c_[xx1.ravel(), xx2.ravel()]\n",
        "probs = model.predict_prob(grid).reshape(xx1.shape)\n",
        "plt.contour(xx1, xx2, probs, [0.5], linewidths=1, colors='black');"
      ],
      "execution_count": 0,
      "outputs": [
        {
          "output_type": "display_data",
          "data": {
            "image/png": "[encoded data removed]",
            "text/plain": [
              "<Figure size 720x432 with 1 Axes>"
            ]
          },
          "metadata": {
            "tags": [],
            "needs_background": "light"
          }
        }
      ]
    },
    {
      "cell_type": "markdown",
      "metadata": {
        "id": "ooRAIk2Zmbwj",
        "colab_type": "text"
      },
      "source": [
        "### - Plot z vs output h (fungsi logistik)"
      ]
    },
    {
      "cell_type": "code",
      "metadata": {
        "id": "WosJzYL_mbwj",
        "colab_type": "code",
        "outputId": "5958f15d-1421-4665-dc9d-79fea41fc527",
        "colab": {
          "base_uri": "https://localhost:8080/",
          "height": 523
        }
      },
      "source": [
        "def sigmoid(theta, x):\n",
        "    x = np.concatenate((np.ones((x.shape[0], 1)), x), axis=1)\n",
        "    z = np.dot(x, theta)\n",
        "    return z, 1 / (1 + np.exp(-z))\n",
        "\n",
        "idx = np.array([[i, i] for i in np.arange(-15, 15, 0.1)])\n",
        "out = sigmoid(model.theta, idx)\n",
        "\n",
        "fig = plt.figure(figsize = (8,8))\n",
        "ax = fig.add_subplot(1,1,1) \n",
        "ax.set_xlabel('z', fontsize = 15)\n",
        "ax.set_ylabel('Arabica (0) or Robusta (1)', fontsize = 15)\n",
        "ax.set_title('Plot z vs output logistic function', fontsize = 20)\n",
        "\n",
        "z, data_prediction = sigmoid(model.theta, data_x)\n",
        "plt.scatter(z[y == 1], data_prediction[y == 1], color='b', label='Robusta')\n",
        "plt.scatter(z[y == 0], data_prediction[y == 0], color='r', label='Arabica')\n",
        "\n",
        "ax.plot(idx[:,1], [1 / (1 + np.exp(-i)) for i in idx[:,1]])\n",
        "plt.xlim(min(z) - 0.5,\n",
        "         max(z) + 0.5)\n",
        "ax.legend(['logistic function', 'Arabica', 'Robusta'])\n",
        "ax.grid()"
      ],
      "execution_count": 0,
      "outputs": [
        {
          "output_type": "display_data",
          "data": {
            "image/png": "[encoded data removed]",
            "text/plain": [
              "<Figure size 576x576 with 1 Axes>"
            ]
          },
          "metadata": {
            "tags": [],
            "needs_background": "light"
          }
        }
      ]
    },
    {
      "cell_type": "markdown",
      "metadata": {
        "id": "hr8USugtmbwm",
        "colab_type": "text"
      },
      "source": [
        "### - Testing"
      ]
    },
    {
      "cell_type": "code",
      "metadata": {
        "id": "SNgk9VYlmbwm",
        "colab_type": "code",
        "outputId": "46e7e6df-6e1e-4a9c-e0a6-ca4ead897018",
        "colab": {
          "base_uri": "https://localhost:8080/",
          "height": 450
        }
      },
      "source": [
        "# read sensor data from csv\n",
        "feature_cols = ['MQ-3', 'MQ-4', 'TGS 2610', 'MQ-136', 'TGS 822'];\n",
        "target_cols = ['Target']\n",
        "\n",
        "data_test = pd.read_csv('test.csv', index_col='Waktu')  \n",
        "data_test"
      ],
      "execution_count": 0,
      "outputs": [
        {
          "output_type": "execute_result",
          "data": {
            "text/html": [
              "<div>\n",
              "<style scoped>\n",
              "    .dataframe tbody tr th:only-of-type {\n",
              "        vertical-align: middle;\n",
              "    }\n",
              "\n",
              "    .dataframe tbody tr th {\n",
              "        vertical-align: top;\n",
              "    }\n",
              "\n",
              "    .dataframe thead th {\n",
              "        text-align: right;\n",
              "    }\n",
              "</style>\n",
              "<table border=\"1\" class=\"dataframe\">\n",
              "  <thead>\n",
              "    <tr style=\"text-align: right;\">\n",
              "      <th></th>\n",
              "      <th>MQ-3</th>\n",
              "      <th>MQ-4</th>\n",
              "      <th>TGS 2610</th>\n",
              "      <th>MQ-136</th>\n",
              "      <th>TGS 822</th>\n",
              "      <th>Target</th>\n",
              "    </tr>\n",
              "    <tr>\n",
              "      <th>Waktu</th>\n",
              "      <th></th>\n",
              "      <th></th>\n",
              "      <th></th>\n",
              "      <th></th>\n",
              "      <th></th>\n",
              "      <th></th>\n",
              "    </tr>\n",
              "  </thead>\n",
              "  <tbody>\n",
              "    <tr>\n",
              "      <th>1:24:38 PM</th>\n",
              "      <td>1700.3</td>\n",
              "      <td>450.8</td>\n",
              "      <td>39.2</td>\n",
              "      <td>1087.8</td>\n",
              "      <td>-34.3</td>\n",
              "      <td>0</td>\n",
              "    </tr>\n",
              "    <tr>\n",
              "      <th>1:24:39 PM</th>\n",
              "      <td>1700.3</td>\n",
              "      <td>455.7</td>\n",
              "      <td>39.2</td>\n",
              "      <td>1087.8</td>\n",
              "      <td>-34.3</td>\n",
              "      <td>0</td>\n",
              "    </tr>\n",
              "    <tr>\n",
              "      <th>1:24:40 PM</th>\n",
              "      <td>1705.2</td>\n",
              "      <td>455.7</td>\n",
              "      <td>39.2</td>\n",
              "      <td>1087.8</td>\n",
              "      <td>-34.3</td>\n",
              "      <td>0</td>\n",
              "    </tr>\n",
              "    <tr>\n",
              "      <th>1:24:41 PM</th>\n",
              "      <td>1705.2</td>\n",
              "      <td>455.7</td>\n",
              "      <td>39.2</td>\n",
              "      <td>1092.7</td>\n",
              "      <td>-44.1</td>\n",
              "      <td>0</td>\n",
              "    </tr>\n",
              "    <tr>\n",
              "      <th>1:24:42 PM</th>\n",
              "      <td>1705.2</td>\n",
              "      <td>455.7</td>\n",
              "      <td>44.1</td>\n",
              "      <td>1092.7</td>\n",
              "      <td>-39.2</td>\n",
              "      <td>0</td>\n",
              "    </tr>\n",
              "    <tr>\n",
              "      <th>...</th>\n",
              "      <td>...</td>\n",
              "      <td>...</td>\n",
              "      <td>...</td>\n",
              "      <td>...</td>\n",
              "      <td>...</td>\n",
              "      <td>...</td>\n",
              "    </tr>\n",
              "    <tr>\n",
              "      <th>1:07:45 PM</th>\n",
              "      <td>1587.6</td>\n",
              "      <td>548.8</td>\n",
              "      <td>53.9</td>\n",
              "      <td>994.7</td>\n",
              "      <td>-68.6</td>\n",
              "      <td>1</td>\n",
              "    </tr>\n",
              "    <tr>\n",
              "      <th>1:07:46 PM</th>\n",
              "      <td>1587.6</td>\n",
              "      <td>548.8</td>\n",
              "      <td>53.9</td>\n",
              "      <td>994.7</td>\n",
              "      <td>-68.6</td>\n",
              "      <td>1</td>\n",
              "    </tr>\n",
              "    <tr>\n",
              "      <th>1:07:47 PM</th>\n",
              "      <td>1592.5</td>\n",
              "      <td>553.7</td>\n",
              "      <td>53.9</td>\n",
              "      <td>994.7</td>\n",
              "      <td>-68.6</td>\n",
              "      <td>1</td>\n",
              "    </tr>\n",
              "    <tr>\n",
              "      <th>1:07:48 PM</th>\n",
              "      <td>1592.5</td>\n",
              "      <td>553.7</td>\n",
              "      <td>53.9</td>\n",
              "      <td>994.7</td>\n",
              "      <td>-68.6</td>\n",
              "      <td>1</td>\n",
              "    </tr>\n",
              "    <tr>\n",
              "      <th>1:07:49 PM</th>\n",
              "      <td>1592.5</td>\n",
              "      <td>553.7</td>\n",
              "      <td>53.9</td>\n",
              "      <td>999.6</td>\n",
              "      <td>-68.6</td>\n",
              "      <td>1</td>\n",
              "    </tr>\n",
              "  </tbody>\n",
              "</table>\n",
              "<p>62 rows × 6 columns</p>\n",
              "</div>"
            ],
            "text/plain": [
              "                MQ-3   MQ-4  TGS 2610  MQ-136  TGS 822  Target\n",
              "Waktu                                                         \n",
              " 1:24:38 PM   1700.3  450.8      39.2  1087.8    -34.3       0\n",
              " 1:24:39 PM   1700.3  455.7      39.2  1087.8    -34.3       0\n",
              " 1:24:40 PM   1705.2  455.7      39.2  1087.8    -34.3       0\n",
              " 1:24:41 PM   1705.2  455.7      39.2  1092.7    -44.1       0\n",
              " 1:24:42 PM   1705.2  455.7      44.1  1092.7    -39.2       0\n",
              "...              ...    ...       ...     ...      ...     ...\n",
              " 1:07:45 PM   1587.6  548.8      53.9   994.7    -68.6       1\n",
              " 1:07:46 PM   1587.6  548.8      53.9   994.7    -68.6       1\n",
              " 1:07:47 PM   1592.5  553.7      53.9   994.7    -68.6       1\n",
              " 1:07:48 PM   1592.5  553.7      53.9   994.7    -68.6       1\n",
              " 1:07:49 PM   1592.5  553.7      53.9   999.6    -68.6       1\n",
              "\n",
              "[62 rows x 6 columns]"
            ]
          },
          "metadata": {
            "tags": []
          },
          "execution_count": 19
        }
      ]
    },
    {
      "cell_type": "code",
      "metadata": {
        "id": "Rx0A9QTLmbwp",
        "colab_type": "code",
        "outputId": "047db24f-c19d-459d-f3bc-30c09dadbfaf",
        "colab": {
          "base_uri": "https://localhost:8080/",
          "height": 419
        }
      },
      "source": [
        "data_feature = data_test.loc[:, feature_cols].values\n",
        "data_target = data_test.loc[:, target_cols].values.flatten()\n",
        "\n",
        "pc_test_data = data_preprocessing(standard_scaler, pca, data_test, feature_cols, target_cols, test=True)\n",
        "pc_test_data"
      ],
      "execution_count": 0,
      "outputs": [
        {
          "output_type": "execute_result",
          "data": {
            "text/html": [
              "<div>\n",
              "<style scoped>\n",
              "    .dataframe tbody tr th:only-of-type {\n",
              "        vertical-align: middle;\n",
              "    }\n",
              "\n",
              "    .dataframe tbody tr th {\n",
              "        vertical-align: top;\n",
              "    }\n",
              "\n",
              "    .dataframe thead th {\n",
              "        text-align: right;\n",
              "    }\n",
              "</style>\n",
              "<table border=\"1\" class=\"dataframe\">\n",
              "  <thead>\n",
              "    <tr style=\"text-align: right;\">\n",
              "      <th></th>\n",
              "      <th>PC 1</th>\n",
              "      <th>PC 2</th>\n",
              "      <th>Target</th>\n",
              "    </tr>\n",
              "  </thead>\n",
              "  <tbody>\n",
              "    <tr>\n",
              "      <th>0</th>\n",
              "      <td>-1.285928</td>\n",
              "      <td>0.006688</td>\n",
              "      <td>0</td>\n",
              "    </tr>\n",
              "    <tr>\n",
              "      <th>1</th>\n",
              "      <td>-1.224025</td>\n",
              "      <td>0.070957</td>\n",
              "      <td>0</td>\n",
              "    </tr>\n",
              "    <tr>\n",
              "      <th>2</th>\n",
              "      <td>-1.240799</td>\n",
              "      <td>0.076557</td>\n",
              "      <td>0</td>\n",
              "    </tr>\n",
              "    <tr>\n",
              "      <th>3</th>\n",
              "      <td>-1.144860</td>\n",
              "      <td>0.155008</td>\n",
              "      <td>0</td>\n",
              "    </tr>\n",
              "    <tr>\n",
              "      <th>4</th>\n",
              "      <td>-1.269742</td>\n",
              "      <td>0.340846</td>\n",
              "      <td>0</td>\n",
              "    </tr>\n",
              "    <tr>\n",
              "      <th>...</th>\n",
              "      <td>...</td>\n",
              "      <td>...</td>\n",
              "      <td>...</td>\n",
              "    </tr>\n",
              "    <tr>\n",
              "      <th>57</th>\n",
              "      <td>0.833301</td>\n",
              "      <td>2.009500</td>\n",
              "      <td>1</td>\n",
              "    </tr>\n",
              "    <tr>\n",
              "      <th>58</th>\n",
              "      <td>0.833301</td>\n",
              "      <td>2.009500</td>\n",
              "      <td>1</td>\n",
              "    </tr>\n",
              "    <tr>\n",
              "      <th>59</th>\n",
              "      <td>0.878431</td>\n",
              "      <td>2.079369</td>\n",
              "      <td>1</td>\n",
              "    </tr>\n",
              "    <tr>\n",
              "      <th>60</th>\n",
              "      <td>0.878431</td>\n",
              "      <td>2.079369</td>\n",
              "      <td>1</td>\n",
              "    </tr>\n",
              "    <tr>\n",
              "      <th>61</th>\n",
              "      <td>0.862166</td>\n",
              "      <td>2.083684</td>\n",
              "      <td>1</td>\n",
              "    </tr>\n",
              "  </tbody>\n",
              "</table>\n",
              "<p>62 rows × 3 columns</p>\n",
              "</div>"
            ],
            "text/plain": [
              "        PC 1      PC 2  Target\n",
              "0  -1.285928  0.006688       0\n",
              "1  -1.224025  0.070957       0\n",
              "2  -1.240799  0.076557       0\n",
              "3  -1.144860  0.155008       0\n",
              "4  -1.269742  0.340846       0\n",
              "..       ...       ...     ...\n",
              "57  0.833301  2.009500       1\n",
              "58  0.833301  2.009500       1\n",
              "59  0.878431  2.079369       1\n",
              "60  0.878431  2.079369       1\n",
              "61  0.862166  2.083684       1\n",
              "\n",
              "[62 rows x 3 columns]"
            ]
          },
          "metadata": {
            "tags": []
          },
          "execution_count": 20
        }
      ]
    },
    {
      "cell_type": "code",
      "metadata": {
        "id": "F7XhzDy8mbwr",
        "colab_type": "code",
        "outputId": "c14a6223-a632-4106-edc3-0ff3367eea21",
        "colab": {
          "base_uri": "https://localhost:8080/",
          "height": 523
        }
      },
      "source": [
        "fig = plt.figure(figsize = (8,8))\n",
        "ax = fig.add_subplot(1,1,1) \n",
        "ax.set_xlabel('PC 1', fontsize = 15)\n",
        "ax.set_ylabel('PC 2', fontsize = 15)\n",
        "ax.set_title('2 component PCA', fontsize = 20)\n",
        "targets = [0, 1]\n",
        "colors = ['r', 'b']\n",
        "for target, color in zip(targets,colors):\n",
        "    indicesToKeep = pc_test_data['Target'] == target\n",
        "    ax.scatter(pc_test_data.loc[indicesToKeep, 'PC 1']\n",
        "               , pc_test_data.loc[indicesToKeep, 'PC 2']\n",
        "               , c = color\n",
        "               , s = 50)\n",
        "ax.legend(['Arabica', 'Robusta'])\n",
        "ax.grid()"
      ],
      "execution_count": 0,
      "outputs": [
        {
          "output_type": "display_data",
          "data": {
            "image/png": "[encoded data removed]",
            "text/plain": [
              "<Figure size 576x576 with 1 Axes>"
            ]
          },
          "metadata": {
            "tags": [],
            "needs_background": "light"
          }
        }
      ]
    },
    {
      "cell_type": "code",
      "metadata": {
        "id": "SySsgm07mbwt",
        "colab_type": "code",
        "outputId": "f4db2d1c-1275-4716-9aff-78164453c806",
        "colab": {
          "base_uri": "https://localhost:8080/",
          "height": 414
        }
      },
      "source": [
        "test_X = np.array(pc_test_data)[:,0:2]\n",
        "test_y = np.array(data_target)\n",
        "\n",
        "plt.figure(figsize=(10, 6))\n",
        "plt.xlabel('PC 1', fontsize = 15)\n",
        "plt.ylabel('PC 2', fontsize = 15)\n",
        "plt.title('Plot Hasil Klasifikasi dengan Boundary Line', fontsize = 20)\n",
        "plt.scatter(test_X[test_y == 0][:, 0], test_X[test_y == 0][:, 1], color='r', label='0')\n",
        "plt.scatter(test_X[test_y == 1][:, 0], test_X[test_y == 1][:, 1], color='b', label='1')\n",
        "plt.legend(['Arabica', 'Robusta'])\n",
        "plt.grid()\n",
        "x1_min, x1_max = test_X[:,0].min() - 1, test_X[:,0].max() + 1,\n",
        "x2_min, x2_max = test_X[:,1].min() - 1, test_X[:,1].max() + 1,\n",
        "xx1, xx2 = np.meshgrid(np.linspace(x1_min, x1_max), np.linspace(x2_min, x2_max))\n",
        "grid = np.c_[xx1.ravel(), xx2.ravel()]\n",
        "probs = model.predict_prob(grid).reshape(xx1.shape)\n",
        "plt.contour(xx1, xx2, probs, [0.5], linewidths=1, colors='black');"
      ],
      "execution_count": 0,
      "outputs": [
        {
          "output_type": "display_data",
          "data": {
            "image/png": "[encoded data removed]",
            "text/plain": [
              "<Figure size 720x432 with 1 Axes>"
            ]
          },
          "metadata": {
            "tags": [],
            "needs_background": "light"
          }
        }
      ]
    },
    {
      "cell_type": "code",
      "metadata": {
        "id": "vejgj-u5mbwv",
        "colab_type": "code",
        "outputId": "2d7eb2eb-8ce8-47a2-87af-d367678bf3eb",
        "colab": {
          "base_uri": "https://localhost:8080/",
          "height": 523
        }
      },
      "source": [
        "def sigmoid(theta, x):\n",
        "    x = np.concatenate((np.ones((x.shape[0], 1)), x), axis=1)\n",
        "    z = np.dot(x, theta)\n",
        "    return z, 1 / (1 + np.exp(-z))\n",
        "\n",
        "idx = np.array([[i, i] for i in np.arange(-10, 10, 0.1)])\n",
        "out = sigmoid(model.theta, idx)\n",
        "\n",
        "fig = plt.figure(figsize = (8,8))\n",
        "ax = fig.add_subplot(1,1,1) \n",
        "ax.set_xlabel('z', fontsize = 15)\n",
        "ax.set_ylabel('Arabica (0) or Robusta (1)', fontsize = 15)\n",
        "ax.set_title('Plot z vs output logistic function', fontsize = 20)\n",
        "\n",
        "z_test, data_prediction_test = sigmoid(model.theta, test_X)\n",
        "plt.scatter(z_test[test_y == 1], data_prediction_test[test_y == 1], color='b', label='Robusta')\n",
        "plt.scatter(z_test[test_y == 0], data_prediction_test[test_y == 0], color='r', label='Arabica')\n",
        "\n",
        "ax.plot(idx[:,1], [1 / (1 + np.exp(-i)) for i in idx[:,1]])\n",
        "plt.xlim(min(z_test) - 0.5,\n",
        "         max(z_test) + 0.5)\n",
        "ax.legend(['logistic function', 'Arabica', 'Robusta'])\n",
        "ax.grid()"
      ],
      "execution_count": 0,
      "outputs": [
        {
          "output_type": "display_data",
          "data": {
            "image/png": "[encoded data removed]",
            "text/plain": [
              "<Figure size 576x576 with 1 Axes>"
            ]
          },
          "metadata": {
            "tags": [],
            "needs_background": "light"
          }
        }
      ]
    },
    {
      "cell_type": "markdown",
      "metadata": {
        "id": "pbF5m_Zdmbww",
        "colab_type": "text"
      },
      "source": [
        "### - Result Test"
      ]
    },
    {
      "cell_type": "code",
      "metadata": {
        "id": "nNVI82Cimbwx",
        "colab_type": "code",
        "outputId": "f9995650-c903-4370-adaf-e82c67c37f58",
        "colab": {
          "base_uri": "https://localhost:8080/",
          "height": 289
        }
      },
      "source": [
        "tn, fp, fn, tp = confusion_matrix(test_y, data_prediction_test.round()).ravel()\n",
        "print('True Positif (TP): {}'.format(tp))\n",
        "print('True Negatif (TN): {}'.format(tn))\n",
        "print('False Positif (FP): {}'.format(fp))\n",
        "print('False Negatif (FN): {}'.format(fn), end='\\r\\n\\r\\n')\n",
        "\n",
        "print('Accuracy Score :',accuracy_score(test_y, data_prediction_test.round()))\n",
        "print('Report : ')\n",
        "print(classification_report(test_y, data_prediction_test.round()))"
      ],
      "execution_count": 0,
      "outputs": [
        {
          "output_type": "stream",
          "text": [
            "True Positif (TP): 31\n",
            "True Negatif (TN): 31\n",
            "False Positif (FP): 0\n",
            "False Negatif (FN): 0\r\n",
            "\r\n",
            "Accuracy Score : 1.0\n",
            "Report : \n",
            "              precision    recall  f1-score   support\n",
            "\n",
            "           0       1.00      1.00      1.00        31\n",
            "           1       1.00      1.00      1.00        31\n",
            "\n",
            "    accuracy                           1.00        62\n",
            "   macro avg       1.00      1.00      1.00        62\n",
            "weighted avg       1.00      1.00      1.00        62\n",
            "\n"
          ],
          "name": "stdout"
        }
      ]
    }
  ]
}